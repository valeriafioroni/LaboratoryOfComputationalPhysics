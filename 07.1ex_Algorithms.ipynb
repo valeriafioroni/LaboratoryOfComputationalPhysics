{
 "cells": [
  {
   "cell_type": "markdown",
   "metadata": {},
   "source": [
    "1\\. **PCA on 3D dataset**\n",
    "\n",
    "* Generate a dataset with 3 features each with N entries (N being ${\\cal O}(1000)$). With $N(\\mu,\\sigma)$ the normali distribution with mean $\\mu$ and $\\sigma$  standard deviation, generate the 3 variables $x_{1,2,3}$ such that:\n",
    "    * $x_1$ is distributed as $N(0,1)$\n",
    "    * $x_2$ is distributed as $x_1+N(0,3)$\n",
    "    * $x_3$ is given by $2x_1+x_2$\n",
    "* Find the eigenvectors and eigenvalues of the covariance matrix of the dataset\n",
    "* Find the eigenvectors and eigenvalues using SVD. Check that they are two procedure yields to same result\n",
    "* What percent of the total variability is explained by the principal components? Given how the dataset was constructed, do these make sense? Reduce the dimensionality of the system so that at least 99% of the total variability is retained.\n",
    "* Redefine the data in the basis yielded by the PCA procedure\n",
    "* Plot the data points in the original and the new coordiantes as a set of scatter plots. Your final figure should have 2 rows of 3 plots each, where the columns show the (0,1), (0,2) and (1,2) proejctions.\n"
   ]
  },
  {
   "cell_type": "code",
   "execution_count": 1,
   "metadata": {
    "collapsed": true
   },
   "outputs": [],
   "source": [
    "import numpy as np\n",
    "import matplotlib.pyplot as plt\n",
    "%matplotlib inline\n",
    "from scipy import linalg as la"
   ]
  },
  {
   "cell_type": "code",
   "execution_count": 23,
   "metadata": {},
   "outputs": [
    {
     "name": "stdout",
     "output_type": "stream",
     "text": [
      "Covariance matrix: \n",
      " [[ 1.01327483  0.96026611  2.98681578]\n",
      " [ 0.96026611  9.98151748 11.9020497 ]\n",
      " [ 2.98681578 11.9020497  17.87568125]]\n",
      "Eigenvalues: \n",
      " [ 2.68136294e+01 -5.24352671e-16  2.05684414e+00]\n",
      "Eigenvectors: \n",
      " [[-0.11504418 -0.81649658  0.56577219]\n",
      " [-0.5778824  -0.40824829 -0.70667196]\n",
      " [-0.80797077  0.40824829  0.42487241]]\n",
      "shapes: (3, 3) (3,) (5000, 5000)\n",
      "Eigenvalues SVD: \n",
      " [2.68222822e+01 2.05684462e+00 9.05685300e-32]\n",
      "Eigenvectors SVD: \n",
      " [[-0.11504272  0.56577249 -0.81649658]\n",
      " [-0.57788423 -0.70667047 -0.40824829]\n",
      " [-0.80796967  0.4248745   0.40824829]]\n",
      "1.0\n"
     ]
    }
   ],
   "source": [
    "N=5000\n",
    "x1= np.random.normal(0,1,N)\n",
    "x2= x1 + np.random.normal(0,3,N)\n",
    "x3= 2*x1 + x2\n",
    "\n",
    "dataset=np.array([x1,x2,x3])\n",
    "#print(dataset)\n",
    "cov=np.cov(dataset)\n",
    "print(\"Covariance matrix: \\n\", cov)\n",
    "\n",
    "#Find the eigenvectors and eigenvalues of the covariance matrix of the dataset\n",
    "l, V = np.linalg.eig(cov) \n",
    "print(\"Eigenvalues: \\n\", l)\n",
    "print(\"Eigenvectors: \\n\", V)\n",
    "\n",
    "#Find the eigenvectors and eigenvalues using SVD\n",
    "U, spectrum, Vt = la.svd(dataset)\n",
    "\n",
    "print(\"shapes:\", U.shape,  spectrum.shape, Vt.shape)\n",
    "\n",
    "l_svd = spectrum**2/(N-1)\n",
    "V_svd = U\n",
    "print(\"Eigenvalues SVD: \\n\", l_svd)\n",
    "print(\"Eigenvectors SVD: \\n\", V_svd)\n",
    "\n",
    "#Reduce the dimensionality of the system so that at least 99% of the total variability is retained\n",
    "#The third eigenvalue is almost 0. This is reasonable, in fact the variable x3 is a linear combination of x1 and x2\n",
    "r=(l_svd[0]+l_svd[1])/np.sum(l_svd)\n",
    "print(r)\n",
    "\n",
    "#Redefine the data in the basis yielded by the PCA procedure"
   ]
  },
  {
   "cell_type": "markdown",
   "metadata": {},
   "source": [
    "2\\. **PCA on a nD dataset**\n",
    "\n",
    "Start from the dataset you have genereted in the previous exercise and add uncorrelated random noise. Such noise should be represented by other 10 uncorrelated variables normal distributed, with standar deviation much smaller (say, a factor 50) than those used to generate the $x_1$ and $x_2$.\n",
    "\n",
    "Repeat the PCA procedure and compare the results with what you obtained before"
   ]
  },
  {
   "cell_type": "markdown",
   "metadata": {},
   "source": [
    "3 \\. **Looking at an oscillating spring** (optional)\n",
    "\n",
    "Imagine you have $n$ cameras looking at a spring oscillating along the $x$ axis. Each  camera record the motion of the spring looking at it along a given direction defined by the pair $(\\theta_i, \\phi_i)$, the angles in spherical coordinates. \n",
    "\n",
    "Start from the simulation of the records (say ${\\cal O}(1000)$) of the spring's motion along the x axis, assuming a little random noise affects the measurements along the $y$. Rotate such dataset to emulate the records of each camera.\n",
    "\n",
    "Perform a Principal Component Analysis on the thus obtained dataset, aiming at finding the only one coordinate that really matters.\n"
   ]
  },
  {
   "cell_type": "markdown",
   "metadata": {},
   "source": [
    "4\\. **PCA on the MAGIC dataset** (optional)\n",
    "\n",
    "Perform a PCA on the magic04.data dataset"
   ]
  },
  {
   "cell_type": "code",
   "execution_count": null,
   "metadata": {
    "collapsed": true
   },
   "outputs": [],
   "source": []
  }
 ],
 "metadata": {
  "kernelspec": {
   "display_name": "Python 3",
   "language": "python",
   "name": "python3"
  },
  "language_info": {
   "codemirror_mode": {
    "name": "ipython",
    "version": 3
   },
   "file_extension": ".py",
   "mimetype": "text/x-python",
   "name": "python",
   "nbconvert_exporter": "python",
   "pygments_lexer": "ipython3",
   "version": "3.6.3"
  }
 },
 "nbformat": 4,
 "nbformat_minor": 2
}
